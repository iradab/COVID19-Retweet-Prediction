{
  "nbformat": 4,
  "nbformat_minor": 0,
  "metadata": {
    "kernelspec": {
      "display_name": "Python 3",
      "language": "python",
      "name": "python3"
    },
    "language_info": {
      "codemirror_mode": {
        "name": "ipython",
        "version": 3
      },
      "file_extension": ".py",
      "mimetype": "text/x-python",
      "name": "python",
      "nbconvert_exporter": "python",
      "pygments_lexer": "ipython3",
      "version": "3.8.3"
    },
    "colab": {
      "name": "Final.ipynb",
      "provenance": [],
      "collapsed_sections": []
    }
  },
  "cells": [
    {
      "cell_type": "code",
      "metadata": {
        "id": "rvJPgwIY-8Ni"
      },
      "source": [
        "import csv\n",
        "import numpy as np\n",
        "import matplotlib.pyplot as plt\n",
        "import pandas as pd\n",
        "from sklearn.metrics import mean_absolute_error\n",
        "from sklearn.model_selection import cross_val_score\n",
        "from sklearn.model_selection import train_test_split\n",
        "from datetime import datetime"
      ],
      "execution_count": null,
      "outputs": []
    },
    {
      "cell_type": "code",
      "metadata": {
        "colab": {
          "base_uri": "https://localhost:8080/"
        },
        "id": "DlGzdJvNAnLi",
        "outputId": "7bc87543-8b23-4b4a-c2ba-6383bba63398"
      },
      "source": [
        "from google.colab import drive\n",
        "drive.mount('/content/drive')"
      ],
      "execution_count": null,
      "outputs": [
        {
          "output_type": "stream",
          "text": [
            "Mounted at /content/drive\n"
          ],
          "name": "stdout"
        }
      ]
    },
    {
      "cell_type": "code",
      "metadata": {
        "id": "aIv62e0Y-8Nj"
      },
      "source": [
        "tweets = pd.read_csv('/content/drive/My Drive/EP/INF554/COVID-19/data/train.csv')\n",
        "eval_ds = pd.read_csv('/content/drive/My Drive/EP/INF554/COVID-19/data/evaluation.csv')"
      ],
      "execution_count": null,
      "outputs": []
    },
    {
      "cell_type": "code",
      "metadata": {
        "id": "5ASBEPk0foys",
        "colab": {
          "base_uri": "https://localhost:8080/"
        },
        "outputId": "085f2428-e206-441d-ff8c-7f0ee82ec73e"
      },
      "source": [
        "tweets.info()"
      ],
      "execution_count": null,
      "outputs": [
        {
          "output_type": "stream",
          "text": [
            "<class 'pandas.core.frame.DataFrame'>\n",
            "RangeIndex: 665777 entries, 0 to 665776\n",
            "Data columns (total 11 columns):\n",
            " #   Column                Non-Null Count   Dtype \n",
            "---  ------                --------------   ----- \n",
            " 0   id                    665777 non-null  int64 \n",
            " 1   timestamp             665777 non-null  int64 \n",
            " 2   retweet_count         665777 non-null  int64 \n",
            " 3   user_verified         665777 non-null  bool  \n",
            " 4   user_statuses_count   665777 non-null  int64 \n",
            " 5   user_followers_count  665777 non-null  int64 \n",
            " 6   user_friends_count    665777 non-null  int64 \n",
            " 7   user_mentions         54291 non-null   object\n",
            " 8   urls                  214080 non-null  object\n",
            " 9   hashtags              72451 non-null   object\n",
            " 10  text                  665777 non-null  object\n",
            "dtypes: bool(1), int64(6), object(4)\n",
            "memory usage: 51.4+ MB\n"
          ],
          "name": "stdout"
        }
      ]
    },
    {
      "cell_type": "code",
      "metadata": {
        "colab": {
          "base_uri": "https://localhost:8080/"
        },
        "id": "fBp3tPLFfgJN",
        "outputId": "ee3e07c0-8567-4fcf-937a-3966ecce9188"
      },
      "source": [
        "tweets['user_statuses_count'].describe()"
      ],
      "execution_count": null,
      "outputs": [
        {
          "output_type": "execute_result",
          "data": {
            "text/plain": [
              "count    6.657770e+05\n",
              "mean     4.167295e+04\n",
              "std      9.848516e+04\n",
              "min      0.000000e+00\n",
              "25%      2.352000e+03\n",
              "50%      1.080400e+04\n",
              "75%      3.809900e+04\n",
              "max      7.203222e+06\n",
              "Name: user_statuses_count, dtype: float64"
            ]
          },
          "metadata": {
            "tags": []
          },
          "execution_count": 7
        }
      ]
    },
    {
      "cell_type": "markdown",
      "metadata": {
        "id": "D9s3BoVm-8Nj"
      },
      "source": [
        "Cleaning the datas"
      ]
    },
    {
      "cell_type": "code",
      "metadata": {
        "id": "Ioe2PaKq-8Nj"
      },
      "source": [
        "def day(t):\n",
        "    dt = datetime.fromtimestamp(t / 1000)\n",
        "    return dt.day\n",
        "\n",
        "def clean(df):\n",
        "    X = df.copy()\n",
        "    X.timestamp = X.timestamp.apply(day)\n",
        "    X.user_verified = X.user_verified.fillna(False).astype(int)\n",
        "    X.user_statuses_count = X.user_statuses_count.fillna(0)\n",
        "    X.user_followers_count = X.user_followers_count.fillna(0)\n",
        "    X.user_friends_count = X.user_friends_count.fillna(0)\n",
        "    X.user_mentions = X.user_mentions.fillna('').apply(lambda x: int(bool(x)))\n",
        "    X.hashtags = X.hashtags.fillna('').astype(bool).astype(int)\n",
        "    X.text = X.text.fillna('')\n",
        "    X.urls = X.urls.fillna('')\n",
        "    X.urls = X.urls.apply(lambda x: int(bool(x))) + X.text.apply(lambda x: int(bool('http' in x)))\n",
        "    X.urls = X.urls.apply(lambda x: 1 if x==2 else x)\n",
        "    X.drop('id', axis=1, inplace=True)\n",
        "    return X"
      ],
      "execution_count": null,
      "outputs": []
    },
    {
      "cell_type": "markdown",
      "metadata": {
        "id": "B5Bm8qiJ-8Nj"
      },
      "source": [
        "Insert a column for categories of words that get a high number of retweets"
      ]
    },
    {
      "cell_type": "code",
      "metadata": {
        "id": "-LFc291J-8Nj"
      },
      "source": [
        "def insert_or(words, title, df):\n",
        "    if title not in df.columns:\n",
        "        df.insert(0, title, df.text.apply(lambda x: int(bool([1 for w in words if w in x.lower()]))))\n",
        "        \n",
        "def insert_cat(df):\n",
        "    X = df.copy()\n",
        "    trump = ['president', 'trump', 'donald', 'dt']\n",
        "    insert_or(trump, 'trump', X)\n",
        "    virus = ['virus', 'corona', 'covid', 'sick', 'flu']\n",
        "    insert_or(virus, 'virus', X)\n",
        "    doctor = ['doctor', 'nurse', 'kid', 'hospital', 'administration', 'medical', 'save']\n",
        "    insert_or(doctor, 'doctor', X)\n",
        "    america = ['america', 'democrat']\n",
        "    insert_or(america, 'america', X)\n",
        "    china = ['chin', 'wuhan']\n",
        "    insert_or(china, 'china', X)\n",
        "    handwash = ['hand', 'wash']\n",
        "    insert_or(handwash, 'handwash', X)\n",
        "    return X\n",
        "\n",
        "def insert_big_cat(df):\n",
        "    X = df.copy()\n",
        "    words = ['president', 'trump', 'donald', 'dt', 'virus', 'corona', 'covid', 'sick', 'flu', \\\n",
        "             'doctor', 'nurse', 'kid', 'hospital', 'administration', 'medical', 'save', 'america', \\\n",
        "             'democrat', 'chin', 'wuhan', 'hand', 'wash']\n",
        "    insert_or(words, 'words', X)\n",
        "    return X\n",
        "\n",
        "def transform(df):\n",
        "    X = df.copy()\n",
        "    X = clean(X)\n",
        "    X = insert_cat(X)\n",
        "    if 'text' in X.columns:\n",
        "        X.insert(0, 'words_count', X.text.apply(lambda x: min(140, len(x.split(' ')))))\n",
        "        X.drop('text', axis=1, inplace=True)\n",
        "    return X"
      ],
      "execution_count": null,
      "outputs": []
    },
    {
      "cell_type": "code",
      "metadata": {
        "colab": {
          "base_uri": "https://localhost:8080/",
          "height": 195
        },
        "id": "G53-HGu_-8Nj",
        "outputId": "2892f3f6-9e1c-4cb8-c114-27fea04bb2e4"
      },
      "source": [
        "X = tweets.copy().drop('retweet_count', axis=1)\n",
        "y = tweets.retweet_count.copy()\n",
        "Z = eval_ds.copy()\n",
        "X = transform(X)\n",
        "Z = transform(Z)\n",
        "X.head()"
      ],
      "execution_count": null,
      "outputs": [
        {
          "output_type": "execute_result",
          "data": {
            "text/html": [
              "<div>\n",
              "<style scoped>\n",
              "    .dataframe tbody tr th:only-of-type {\n",
              "        vertical-align: middle;\n",
              "    }\n",
              "\n",
              "    .dataframe tbody tr th {\n",
              "        vertical-align: top;\n",
              "    }\n",
              "\n",
              "    .dataframe thead th {\n",
              "        text-align: right;\n",
              "    }\n",
              "</style>\n",
              "<table border=\"1\" class=\"dataframe\">\n",
              "  <thead>\n",
              "    <tr style=\"text-align: right;\">\n",
              "      <th></th>\n",
              "      <th>words_count</th>\n",
              "      <th>handwash</th>\n",
              "      <th>china</th>\n",
              "      <th>america</th>\n",
              "      <th>doctor</th>\n",
              "      <th>virus</th>\n",
              "      <th>trump</th>\n",
              "      <th>timestamp</th>\n",
              "      <th>user_verified</th>\n",
              "      <th>user_statuses_count</th>\n",
              "      <th>user_followers_count</th>\n",
              "      <th>user_friends_count</th>\n",
              "      <th>user_mentions</th>\n",
              "      <th>urls</th>\n",
              "      <th>hashtags</th>\n",
              "    </tr>\n",
              "  </thead>\n",
              "  <tbody>\n",
              "    <tr>\n",
              "      <th>0</th>\n",
              "      <td>4</td>\n",
              "      <td>0</td>\n",
              "      <td>0</td>\n",
              "      <td>0</td>\n",
              "      <td>0</td>\n",
              "      <td>0</td>\n",
              "      <td>0</td>\n",
              "      <td>5</td>\n",
              "      <td>0</td>\n",
              "      <td>68460</td>\n",
              "      <td>1101</td>\n",
              "      <td>1226</td>\n",
              "      <td>0</td>\n",
              "      <td>0</td>\n",
              "      <td>0</td>\n",
              "    </tr>\n",
              "    <tr>\n",
              "      <th>1</th>\n",
              "      <td>14</td>\n",
              "      <td>0</td>\n",
              "      <td>0</td>\n",
              "      <td>0</td>\n",
              "      <td>0</td>\n",
              "      <td>0</td>\n",
              "      <td>0</td>\n",
              "      <td>3</td>\n",
              "      <td>0</td>\n",
              "      <td>309</td>\n",
              "      <td>51</td>\n",
              "      <td>202</td>\n",
              "      <td>0</td>\n",
              "      <td>0</td>\n",
              "      <td>0</td>\n",
              "    </tr>\n",
              "    <tr>\n",
              "      <th>2</th>\n",
              "      <td>21</td>\n",
              "      <td>0</td>\n",
              "      <td>0</td>\n",
              "      <td>0</td>\n",
              "      <td>0</td>\n",
              "      <td>0</td>\n",
              "      <td>1</td>\n",
              "      <td>4</td>\n",
              "      <td>0</td>\n",
              "      <td>3241</td>\n",
              "      <td>1675</td>\n",
              "      <td>2325</td>\n",
              "      <td>0</td>\n",
              "      <td>0</td>\n",
              "      <td>0</td>\n",
              "    </tr>\n",
              "    <tr>\n",
              "      <th>3</th>\n",
              "      <td>16</td>\n",
              "      <td>0</td>\n",
              "      <td>0</td>\n",
              "      <td>0</td>\n",
              "      <td>0</td>\n",
              "      <td>0</td>\n",
              "      <td>0</td>\n",
              "      <td>2</td>\n",
              "      <td>0</td>\n",
              "      <td>32327</td>\n",
              "      <td>667</td>\n",
              "      <td>304</td>\n",
              "      <td>0</td>\n",
              "      <td>0</td>\n",
              "      <td>0</td>\n",
              "    </tr>\n",
              "    <tr>\n",
              "      <th>4</th>\n",
              "      <td>15</td>\n",
              "      <td>0</td>\n",
              "      <td>0</td>\n",
              "      <td>0</td>\n",
              "      <td>0</td>\n",
              "      <td>0</td>\n",
              "      <td>0</td>\n",
              "      <td>4</td>\n",
              "      <td>0</td>\n",
              "      <td>581</td>\n",
              "      <td>42</td>\n",
              "      <td>127</td>\n",
              "      <td>0</td>\n",
              "      <td>0</td>\n",
              "      <td>0</td>\n",
              "    </tr>\n",
              "  </tbody>\n",
              "</table>\n",
              "</div>"
            ],
            "text/plain": [
              "   words_count  handwash  china  ...  user_mentions  urls  hashtags\n",
              "0            4         0      0  ...              0     0         0\n",
              "1           14         0      0  ...              0     0         0\n",
              "2           21         0      0  ...              0     0         0\n",
              "3           16         0      0  ...              0     0         0\n",
              "4           15         0      0  ...              0     0         0\n",
              "\n",
              "[5 rows x 15 columns]"
            ]
          },
          "metadata": {
            "tags": []
          },
          "execution_count": 6
        }
      ]
    },
    {
      "cell_type": "code",
      "metadata": {
        "id": "qevbPRjt-8Nk"
      },
      "source": [
        "X_train, X_test, y_train, y_test = train_test_split(X.copy(), y.copy(), test_size=0.3, random_state=3)\n",
        "#X_train = X.copy()\n",
        "#X_test = Z.copy() # for submissions\n",
        "#y_train = y.copy()\n",
        "\n",
        "X_train_day = X_train.timestamp\n",
        "X_train.drop('timestamp', axis=1, inplace=True)\n",
        "X_test_day = X_test.timestamp\n",
        "X_test.drop('timestamp', axis=1, inplace=True)\n",
        "\n",
        "#X_train.drop('user_mentions', axis=1, inplace=True)\n",
        "#X_test.drop('user_mentions', axis=1, inplace=True)\n",
        "\n",
        "t1 = 10\n",
        "t2 = 300\n",
        "t3 = 1500\n",
        "t4 = 3000\n",
        "y_train_class = y_train.apply(lambda x: 0 if x <= t1 else 1 if x <= t2 else 2 if x <= t3 else 3 if x <= t4 else 4)\n",
        "#y_train_class = y_train.apply(lambda x: 0 if x <= t1 else 1 if x <= t2 else 2 if x <= t3 else 3)"
      ],
      "execution_count": null,
      "outputs": []
    },
    {
      "cell_type": "code",
      "metadata": {
        "id": "OU7wc-Yt-8Nk",
        "colab": {
          "base_uri": "https://localhost:8080/"
        },
        "outputId": "91661ad2-da2b-4101-a785-9dbfbdd58492"
      },
      "source": [
        "%%time\n",
        "from sklearn.ensemble import RandomForestClassifier\n",
        "\n",
        "rfc = RandomForestClassifier(random_state=2, n_estimators=100)\n",
        "rfc.fit(X_train, y_train_class)\n",
        "X_test_class = rfc.predict(X_test)"
      ],
      "execution_count": null,
      "outputs": [
        {
          "output_type": "stream",
          "text": [
            "CPU times: user 1min 56s, sys: 674 ms, total: 1min 57s\n",
            "Wall time: 1min 57s\n"
          ],
          "name": "stdout"
        }
      ]
    },
    {
      "cell_type": "code",
      "metadata": {
        "id": "wPa3x-wF-8Nk"
      },
      "source": [
        "upper_bound = 23000\n",
        "lower_bound = 1\n",
        "X_train_reg = X_train[y_train >= lower_bound]\n",
        "X_train_reg = X_train_reg[y_train[y_train >= lower_bound] < upper_bound]\n",
        "y_train_reg = y_train[y_train >= lower_bound]\n",
        "y_train_reg = y_train_reg[y_train[y_train >= lower_bound] < upper_bound]"
      ],
      "execution_count": null,
      "outputs": []
    },
    {
      "cell_type": "code",
      "metadata": {
        "colab": {
          "base_uri": "https://localhost:8080/"
        },
        "id": "TRXyLZW8-8Nk",
        "outputId": "105fc480-1f9e-4f73-d23f-7056cdfd1bc4"
      },
      "source": [
        "%%time\n",
        "from sklearn.ensemble import RandomForestRegressor\n",
        "\n",
        "rfr = RandomForestRegressor(random_state=2, n_estimators=100)\n",
        "rfr.fit(X_train_reg, y_train_reg)\n",
        "y_pred = rfr.predict(X_test)\n",
        "tmp = y_pred.copy()"
      ],
      "execution_count": null,
      "outputs": [
        {
          "output_type": "stream",
          "text": [
            "CPU times: user 2min 28s, sys: 771 ms, total: 2min 29s\n",
            "Wall time: 2min 29s\n"
          ],
          "name": "stdout"
        }
      ]
    },
    {
      "cell_type": "code",
      "metadata": {
        "id": "jSO52mqe_IeZ"
      },
      "source": [
        "def transform_pred(pred):\n",
        "    y_pred = pred.copy()\n",
        "    zero = mean_absolute_error(y_true=y_test, y_pred=y_pred*0)\n",
        "    score = -10000\n",
        "    i1, j1, k1 = 0, 0, 0\n",
        "    y_pred[X_test_class == 0] = 0\n",
        "    for i in np.linspace(0.9, 1.5, 20):\n",
        "        for j in np.linspace(3, 18, 40):\n",
        "            for k in np.linspace(-48, 40, 12):\n",
        "                y_pred[X_test_class == 1] = (tmp[X_test_class == 1]**i) / j + k\n",
        "                mae = mean_absolute_error(y_true=y_test, y_pred=y_pred)\n",
        "                new_score = zero - mae\n",
        "                if new_score > score:\n",
        "                    score = new_score\n",
        "                    i1 = i\n",
        "                    j1 = j\n",
        "                    k1 = k\n",
        "    score = -10000\n",
        "    i2, j2, k2 = 0, 0, 0\n",
        "    y_pred = tmp.copy()\n",
        "    y_pred[X_test_class == 0] = 0\n",
        "    y_pred[X_test_class == 1] = (tmp[X_test_class == 1]**i1) / j1 + k1\n",
        "    for i in np.linspace(0.9, 1.5, 20):\n",
        "        for j in np.linspace(3, 18, 40):\n",
        "            for k in np.linspace(0, 200, 12):\n",
        "                y_pred[X_test_class == 2] = (tmp[X_test_class == 2]**i) / j + k\n",
        "                mae = mean_absolute_error(y_true=y_test, y_pred=y_pred)\n",
        "                new_score = zero - mae\n",
        "                if new_score > score:\n",
        "                    score = new_score\n",
        "                    i2 = i\n",
        "                    j2 = j\n",
        "                    k2 = k\n",
        "    score = -10000\n",
        "    i3, j3, k3 = 0, 0, 0\n",
        "    y_pred = tmp.copy()\n",
        "    y_pred[X_test_class == 0] = 0\n",
        "    y_pred[X_test_class == 1] = (tmp[X_test_class == 1]**i1) / j1 + k1\n",
        "    y_pred[X_test_class == 2] = (tmp[X_test_class == 2]**i2) / j2 + k2\n",
        "    for i in np.linspace(0.9, 1.5, 20):\n",
        "        for j in np.linspace(3, 18, 40):\n",
        "            for k in np.linspace(-500,500, 12):\n",
        "                y_pred[X_test_class == 3] = (tmp[X_test_class == 3]**i) / j + k\n",
        "                mae = mean_absolute_error(y_true=y_test, y_pred=y_pred)\n",
        "                new_score = zero - mae\n",
        "                if new_score > score:\n",
        "                    score = new_score\n",
        "                    i3 = i\n",
        "                    j3 = j\n",
        "                    k3 = k\n",
        "    \n",
        "    score = -10000\n",
        "    i4, j4, k4 = 0, 0, 0\n",
        "    y_pred = tmp.copy()\n",
        "    y_pred[X_test_class == 0] = 0\n",
        "    y_pred[X_test_class == 1] = (tmp[X_test_class == 1]**i1) / j1 + k1\n",
        "    y_pred[X_test_class == 2] = (tmp[X_test_class == 2]**i2) / j2 + k2\n",
        "    y_pred[X_test_class == 3] = (tmp[X_test_class == 3]**i3) / j3 + k3\n",
        "    for i in np.linspace(-1.5, 1.5, 20):\n",
        "        for j in np.linspace(-72, 3, 40):\n",
        "            for k in np.linspace(-4000, 0, 12):\n",
        "                y_pred[X_test_class == 4] = (tmp[X_test_class == 4]**i) / j + k\n",
        "                mae = mean_absolute_error(y_true=y_test, y_pred=y_pred)\n",
        "                new_score = zero - mae\n",
        "                if new_score > score:\n",
        "                    score = new_score\n",
        "                    i4 = i\n",
        "                    j4 = j\n",
        "                    k4 = k\n",
        "    print(\"score :\", score)\n",
        "    print('i1 :', i1, 'j1 :', j1, 'k1 :', k1, '\\ni2 :', i2, 'j2 :', j2, 'k2 :', k2, \\\n",
        "          '\\ni3 :', i3, 'j3 :', j3, 'k3 :', k3, '\\ni4 :', i4, 'j4 :', j4, 'k4 :', k4)\n",
        "    \n",
        "    return i1, j1, k1, i2, j2, k2, i3, j3, k3 , i4, j4, k4"
      ],
      "execution_count": null,
      "outputs": []
    },
    {
      "cell_type": "code",
      "metadata": {
        "id": "hna_jBRC-8Nk",
        "colab": {
          "base_uri": "https://localhost:8080/"
        },
        "outputId": "183d8363-07b5-400b-8fa4-136e743def89"
      },
      "source": [
        "y_pred = tmp.copy()\n",
        "%time i1, j1, k1, i2, j2, k2, i3, j3, k3, i4, j4, k4 = transform_pred(y_pred)\n",
        "#%time i1, j1, k1, i2, j2, k2, i3, j3, k3 = transform_pred(y_pred)"
      ],
      "execution_count": null,
      "outputs": [
        {
          "output_type": "stream",
          "text": [
            "score : 8.672433659666694\n",
            "i1 : 1.0263157894736843 j1 : 9.153846153846153 k1 : 8.0 \n",
            "i2 : 1.2473684210526317 j2 : 17.230769230769234 k2 : 90.90909090909092 \n",
            "i3 : 1.0578947368421052 j3 : 3.0 k3 : 45.454545454545496 \n",
            "i4 : 1.026315789473684 j4 : 1.0769230769230802 k4 : -1818.181818181818\n",
            "CPU times: user 1min 35s, sys: 1.17 s, total: 1min 37s\n",
            "Wall time: 1min 37s\n"
          ],
          "name": "stdout"
        }
      ]
    },
    {
      "cell_type": "code",
      "metadata": {
        "id": "p3_RL-SH-8Nk"
      },
      "source": [
        "y_pred[X_test_class == 0] = 0\n",
        "y_pred[X_test_class == 1] = (tmp[X_test_class == 1]**i1) / j1 + k1\n",
        "y_pred[X_test_class == 2] = (tmp[X_test_class == 2]**i2) / j2 + k2\n",
        "y_pred[X_test_class == 3] = (tmp[X_test_class == 3]**i3) / j3 + k3\n",
        "y_pred[X_test_class == 4] = (tmp[X_test_class == 4]**i4) / j4 + k4"
      ],
      "execution_count": null,
      "outputs": []
    },
    {
      "cell_type": "code",
      "metadata": {
        "id": "6IKamZ2O-8Nk",
        "colab": {
          "base_uri": "https://localhost:8080/"
        },
        "outputId": "be74839d-039b-460b-85a1-7f61bc6e7e44"
      },
      "source": [
        "mae = mean_absolute_error(y_true=y_test, y_pred=y_pred)\n",
        "print(\"Prediction error on true datas :\", mae)\n",
        "zero = mean_absolute_error(y_true=y_test, y_pred=y_pred*0)\n",
        "print(\"Constant zero prediction :\", zero)\n",
        "print('score :', zero - mae)"
      ],
      "execution_count": null,
      "outputs": [
        {
          "output_type": "stream",
          "text": [
            "Prediction error on true datas : 142.79484281804866\n",
            "Constant zero prediction : 151.46727647771536\n",
            "score : 8.672433659666694\n"
          ],
          "name": "stdout"
        }
      ]
    },
    {
      "cell_type": "markdown",
      "metadata": {
        "id": "IzADr_6B-8Nk"
      },
      "source": [
        "8.85339735118896 : clusters : 10 - 600 - 3000, upper lower : 20 000 - 1, n_esti = 200"
      ]
    },
    {
      "cell_type": "code",
      "metadata": {
        "id": "Ug62JMzr-8Nk"
      },
      "source": [
        "def write_prediction_file(eval_data, y_pred):\n",
        "    with open(\"random_forests.txt\", 'w') as f:\n",
        "        writer = csv.writer(f)\n",
        "        writer.writerow([\"TweetID\", \"NoRetweets\"])\n",
        "        for index, prediction in enumerate(y_pred):\n",
        "            writer.writerow([str(eval_data['id'].iloc[index]) , str(int(prediction))])"
      ],
      "execution_count": null,
      "outputs": []
    },
    {
      "cell_type": "code",
      "metadata": {
        "id": "lVLYamza-8Nl"
      },
      "source": [
        "write_prediction_file(eval_ds, y_pred)"
      ],
      "execution_count": null,
      "outputs": []
    }
  ]
}